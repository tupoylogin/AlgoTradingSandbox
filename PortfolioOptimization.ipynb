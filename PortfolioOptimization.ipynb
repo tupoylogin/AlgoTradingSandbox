{
  "nbformat": 4,
  "nbformat_minor": 0,
  "metadata": {
    "colab": {
      "name": "PortfolioOptimization.ipynb",
      "provenance": [],
      "collapsed_sections": [],
      "authorship_tag": "ABX9TyO28RCOtZUisg/ntsmEP9zZ",
      "include_colab_link": true
    },
    "kernelspec": {
      "name": "python3",
      "display_name": "Python 3"
    }
  },
  "cells": [
    {
      "cell_type": "markdown",
      "metadata": {
        "id": "view-in-github",
        "colab_type": "text"
      },
      "source": [
        "<a href=\"https://colab.research.google.com/github/tupoylogin/AlgoTradingSandbox/blob/main/PortfolioOptimization.ipynb\" target=\"_parent\"><img src=\"https://colab.research.google.com/assets/colab-badge.svg\" alt=\"Open In Colab\"/></a>"
      ]
    },
    {
      "cell_type": "code",
      "metadata": {
        "id": "jDdNU8Ea0YE2"
      },
      "source": [
        "import re\r\n",
        "from io import StringIO\r\n",
        "from datetime import datetime, timedelta\r\n",
        "from collections import defaultdict\r\n",
        "import typing as tp\r\n",
        "import time\r\n",
        "from itertools import combinations\r\n",
        "\r\n",
        "from scipy.optimize import minimize\r\n",
        "import matplotlib.pyplot as plt\r\n",
        "import seaborn as sns\r\n",
        "import requests\r\n",
        "import numpy as np\r\n",
        "import pandas as pd\r\n",
        "from matplotlib.ticker import FuncFormatter\r\n",
        "\r\n",
        "sns.set()"
      ],
      "execution_count": 13,
      "outputs": []
    },
    {
      "cell_type": "markdown",
      "metadata": {
        "id": "cc6rhra1ZM-a"
      },
      "source": [
        "## Choosing a stock range"
      ]
    },
    {
      "cell_type": "code",
      "metadata": {
        "id": "1YBlz6UdEpV0"
      },
      "source": [
        "STOCKS = ['AAPL', 'AMZN', 'GOOGL','FB', 'T', 'VZ', 'MCD', 'IBM', 'CSCO', 'JPM', '^GSPC'] #^GSPC is a symbol for S&P500\r\n",
        "# risk free rate is taken from US Daily Treasury Bill Rates Data: \r\n",
        "# https://www.treasury.gov/resource-center/data-chart-center/interest-rates/Pages/TextView.aspx?data=billRatesYear&year=2021\r\n",
        "RISK_FREE_RATE = 0.1/100 "
      ],
      "execution_count": 14,
      "outputs": []
    },
    {
      "cell_type": "code",
      "metadata": {
        "id": "KQGsOd3SALCk"
      },
      "source": [
        "class StockParser:\r\n",
        "    \"\"\"\r\n",
        "    Retrieves stock data by its symbol\r\n",
        "    \"\"\"\r\n",
        "    timeout = 2\r\n",
        "    crumb_link = 'https://finance.yahoo.com/quote/{0}/history?p={0}'\r\n",
        "    crumble_regex = r'CrumbStore\":{\"crumb\":\"(.*?)\"}'\r\n",
        "    quote_link = 'https://query1.finance.yahoo.com/v7/finance/download/{quote}?period1={dfrom}&period2={dto}&interval=1d&events=history&crumb={crumb}'\r\n",
        "\r\n",
        "    def __init__(self, symbol: str, days_back: int = 7):\r\n",
        "        self.symbol = symbol\r\n",
        "        self.session = requests.Session()\r\n",
        "        self.dt = timedelta(days=days_back)\r\n",
        "\r\n",
        "    def get_crumb(self):\r\n",
        "        response = self.session.get(self.crumb_link.format(self.symbol), timeout=self.timeout)\r\n",
        "        response.raise_for_status()\r\n",
        "        match = re.search(self.crumble_regex, response.text)\r\n",
        "        if not match:\r\n",
        "            raise ValueError('Could not get crumb from Yahoo Finance')\r\n",
        "        else:\r\n",
        "            self.crumb = match.group(1)\r\n",
        "\r\n",
        "    def get_quote(self, leave_cols: tp.List[str] = None) -> pd.DataFrame:\r\n",
        "        if not hasattr(self, 'crumb') or len(self.session.cookies) == 0:\r\n",
        "            self.get_crumb()\r\n",
        "        now = datetime.utcnow()\r\n",
        "        dateto = int(now.timestamp())\r\n",
        "        datefrom = int((now - self.dt).timestamp())\r\n",
        "        url = self.quote_link.format(quote=self.symbol, dfrom=datefrom, dto=dateto, crumb=self.crumb)\r\n",
        "        response = self.session.get(url)\r\n",
        "        response.raise_for_status()\r\n",
        "        data = pd.read_csv(StringIO(response.text), parse_dates=['Date'])\r\n",
        "        if leave_cols:\r\n",
        "          return data[leave_cols]\r\n",
        "        return data"
      ],
      "execution_count": 15,
      "outputs": []
    },
    {
      "cell_type": "code",
      "metadata": {
        "id": "YingTJYi1y3G"
      },
      "source": [
        "STOCK_DATA = defaultdict(str)\r\n",
        "for stock in STOCKS:\r\n",
        "    data = StockParser(stock, days_back=365).get_quote(leave_cols=['Date', 'Close'])\r\n",
        "    STOCK_DATA[stock] = data\r\n",
        "    time.sleep(1.5)"
      ],
      "execution_count": 16,
      "outputs": []
    },
    {
      "cell_type": "markdown",
      "metadata": {
        "id": "tPtBA_qyZWVJ"
      },
      "source": [
        "## Let's visualize the return-volatility distribution among all stocks"
      ]
    },
    {
      "cell_type": "code",
      "metadata": {
        "id": "Ad6xTXO_NOtr"
      },
      "source": [
        "%matplotlib inline\r\n",
        "\r\n",
        "def simple_ret_vol(stock: pd.DataFrame):\r\n",
        "    index_return = stock['Close'].pct_change()[1:].tolist()\r\n",
        "    return np.mean(index_return), np.std(index_return)\r\n",
        "\r\n",
        "def visualize_ret_vol(ax, stock_data: tp.Dict[str, pd.DataFrame]):\r\n",
        "    for k, v in stock_data.items():\r\n",
        "        retvol = simple_ret_vol(v)\r\n",
        "        ax.scatter(*retvol)\r\n",
        "        ax.annotate(k, retvol, xytext=(10,0), textcoords='offset points')\r\n",
        "\r\n",
        "def visualize_ret_vol_2(ax, stock_data: tp.Dict[str, tp.Tuple[float]]):\r\n",
        "    for k, retvol in stock_data.items():\r\n",
        "        ax.scatter(*retvol)\r\n",
        "        ax.annotate(k, retvol, xytext=(10,0), textcoords='offset points')\r\n",
        "    "
      ],
      "execution_count": 5,
      "outputs": []
    },
    {
      "cell_type": "code",
      "metadata": {
        "colab": {
          "base_uri": "https://localhost:8080/",
          "height": 431
        },
        "id": "qUeE07WdPhZD",
        "outputId": "65f95e8d-b630-49f0-b9c9-a8b5ac9b471b"
      },
      "source": [
        "fig, ax = plt.subplots(figsize=(10, 7))\r\n",
        "visualize_ret_vol(ax, STOCK_DATA)\r\n",
        "fig.show()"
      ],
      "execution_count": 17,
      "outputs": [
        {
          "output_type": "display_data",
          "data": {
            "image/png": "[encoded data removed]",
            "text/plain": [
              "<Figure size 720x504 with 1 Axes>"
            ]
          },
          "metadata": {
            "tags": []
          }
        }
      ]
    },
    {
      "cell_type": "code",
      "metadata": {
        "colab": {
          "base_uri": "https://localhost:8080/",
          "height": 373
        },
        "id": "o8MPJ5J9X3Yq",
        "outputId": "80460c35-7c3f-4916-fb0a-ddf650a24d9c"
      },
      "source": [
        "pd.DataFrame([[sname, *simple_ret_vol(sdata)] for sname, sdata in STOCK_DATA.items()], \r\n",
        "             columns=['asset', 'return', 'volatility'])"
      ],
      "execution_count": 18,
      "outputs": [
        {
          "output_type": "execute_result",
          "data": {
            "text/html": [
              "<div>\n",
              "<style scoped>\n",
              "    .dataframe tbody tr th:only-of-type {\n",
              "        vertical-align: middle;\n",
              "    }\n",
              "\n",
              "    .dataframe tbody tr th {\n",
              "        vertical-align: top;\n",
              "    }\n",
              "\n",
              "    .dataframe thead th {\n",
              "        text-align: right;\n",
              "    }\n",
              "</style>\n",
              "<table border=\"1\" class=\"dataframe\">\n",
              "  <thead>\n",
              "    <tr style=\"text-align: right;\">\n",
              "      <th></th>\n",
              "      <th>asset</th>\n",
              "      <th>return</th>\n",
              "      <th>volatility</th>\n",
              "    </tr>\n",
              "  </thead>\n",
              "  <tbody>\n",
              "    <tr>\n",
              "      <th>0</th>\n",
              "      <td>AAPL</td>\n",
              "      <td>0.003006</td>\n",
              "      <td>0.024766</td>\n",
              "    </tr>\n",
              "    <tr>\n",
              "      <th>1</th>\n",
              "      <td>AMZN</td>\n",
              "      <td>0.002423</td>\n",
              "      <td>0.021737</td>\n",
              "    </tr>\n",
              "    <tr>\n",
              "      <th>2</th>\n",
              "      <td>GOOGL</td>\n",
              "      <td>0.002693</td>\n",
              "      <td>0.021181</td>\n",
              "    </tr>\n",
              "    <tr>\n",
              "      <th>3</th>\n",
              "      <td>FB</td>\n",
              "      <td>0.002870</td>\n",
              "      <td>0.025317</td>\n",
              "    </tr>\n",
              "    <tr>\n",
              "      <th>4</th>\n",
              "      <td>T</td>\n",
              "      <td>-0.000272</td>\n",
              "      <td>0.018676</td>\n",
              "    </tr>\n",
              "    <tr>\n",
              "      <th>5</th>\n",
              "      <td>VZ</td>\n",
              "      <td>0.000185</td>\n",
              "      <td>0.012811</td>\n",
              "    </tr>\n",
              "    <tr>\n",
              "      <th>6</th>\n",
              "      <td>MCD</td>\n",
              "      <td>0.001868</td>\n",
              "      <td>0.020866</td>\n",
              "    </tr>\n",
              "    <tr>\n",
              "      <th>7</th>\n",
              "      <td>IBM</td>\n",
              "      <td>0.000998</td>\n",
              "      <td>0.021996</td>\n",
              "    </tr>\n",
              "    <tr>\n",
              "      <th>8</th>\n",
              "      <td>CSCO</td>\n",
              "      <td>0.001533</td>\n",
              "      <td>0.020955</td>\n",
              "    </tr>\n",
              "    <tr>\n",
              "      <th>9</th>\n",
              "      <td>JPM</td>\n",
              "      <td>0.002382</td>\n",
              "      <td>0.027825</td>\n",
              "    </tr>\n",
              "    <tr>\n",
              "      <th>10</th>\n",
              "      <td>^GSPC</td>\n",
              "      <td>0.001923</td>\n",
              "      <td>0.016049</td>\n",
              "    </tr>\n",
              "  </tbody>\n",
              "</table>\n",
              "</div>"
            ],
            "text/plain": [
              "    asset    return  volatility\n",
              "0    AAPL  0.003006    0.024766\n",
              "1    AMZN  0.002423    0.021737\n",
              "2   GOOGL  0.002693    0.021181\n",
              "3      FB  0.002870    0.025317\n",
              "4       T -0.000272    0.018676\n",
              "5      VZ  0.000185    0.012811\n",
              "6     MCD  0.001868    0.020866\n",
              "7     IBM  0.000998    0.021996\n",
              "8    CSCO  0.001533    0.020955\n",
              "9     JPM  0.002382    0.027825\n",
              "10  ^GSPC  0.001923    0.016049"
            ]
          },
          "metadata": {
            "tags": []
          },
          "execution_count": 18
        }
      ]
    },
    {
      "cell_type": "code",
      "metadata": {
        "id": "HKHPeRwxUy2a"
      },
      "source": [
        "index_mean_return, index_std_return = simple_ret_vol(STOCK_DATA[STOCKS[-1]])"
      ],
      "execution_count": 19,
      "outputs": []
    },
    {
      "cell_type": "markdown",
      "metadata": {
        "id": "AQ3vJ20CZiDp"
      },
      "source": [
        "## Creating a random asset combinations"
      ]
    },
    {
      "cell_type": "code",
      "metadata": {
        "id": "mVuLsjjl4K9c"
      },
      "source": [
        "possible_portfolios = list(map(lambda x: (STOCKS[-1], *x), combinations(STOCKS[:-1], 2)))\r\n",
        "rc = np.random.choice(len(possible_portfolios), 4)\r\n",
        "possible_portfolios = np.array(possible_portfolios)[rc]"
      ],
      "execution_count": 20,
      "outputs": []
    },
    {
      "cell_type": "markdown",
      "metadata": {
        "id": "Ax2nE8PKZoDp"
      },
      "source": [
        "## Defining an asset structure optimizer. \r\n",
        "###It's a simple tool that solves convex optimization problem based on two options - should we minimise total asset volatility or should we maximise Sharpe ratio"
      ]
    },
    {
      "cell_type": "code",
      "metadata": {
        "id": "A9IHOfUa83G8"
      },
      "source": [
        "class PortfolioOptimizer(object):\n",
        "    def __init__(self, stocks: tp.Tuple[str],\n",
        "        ) -> None:\n",
        "\n",
        "        self._coins = stocks\n",
        "        self._coin_history = self._fetch_all(stocks)\n",
        "\n",
        "    @staticmethod\n",
        "    def _fetch_all(stocks: tp.List[str]):\n",
        "        coin_history = {}\n",
        "\n",
        "        def index_history(hist: pd.DataFrame) -> pd.DataFrame:\n",
        "            # index by date so we can easily filter by a given timeframe\n",
        "            hist = hist.set_index('Date')\n",
        "            hist.index = pd.to_datetime(hist.index, unit='d')\n",
        "            return hist\n",
        "\n",
        "        def fetch_history(coin: str) -> pd.DataFrame:\n",
        "            hist = STOCK_DATA[coin]\n",
        "            hist = index_history(hist)\n",
        "            return hist\n",
        "\n",
        "        for coin in stocks:\n",
        "            coin_history[coin] = fetch_history(coin)\n",
        "        return coin_history\n",
        "\n",
        "    @staticmethod\n",
        "    def get_all_returns(stocks: tp.List[str], history: pd.DataFrame):\n",
        "        average_returns = defaultdict(str)\n",
        "        cumulative_returns = defaultdict(str)\n",
        "        coin_history = history.copy()\n",
        "        for coin in stocks:\n",
        "            hist = coin_history[coin]\n",
        "            hist['return'] = hist['Close'].pct_change().fillna(0.)\n",
        "            average = hist[\"return\"].mean()\n",
        "            average_returns[coin] = average\n",
        "            cumulative_returns[coin] = (hist[\"return\"] + 1).prod() - 1\n",
        "            hist['excess_return'] = hist['return'] - average\n",
        "            coin_history[coin] = hist\n",
        "        return coin_history, average_returns, cumulative_returns\n",
        "    \n",
        "    @staticmethod\n",
        "    def get_excess_matrix(hist_length: int, history: pd.DataFrame, coins: tp.Tuple[str]):\n",
        "        excess_matrix = np.zeros((hist_length, len(coins)))\n",
        "        coin_history = history.copy()\n",
        "        for i in range(0, hist_length):\n",
        "            for idx, coin in enumerate(coins):\n",
        "                excess_matrix[i][idx] = coin_history[coin].iloc[i]['excess_return']\n",
        "        return excess_matrix\n",
        "    \n",
        "    @staticmethod\n",
        "    def get_varcovar_matrix(excess_matrix: np.ndarray, hist_length: int):\n",
        "        product_matrix = np.matmul(excess_matrix.T, excess_matrix)\n",
        "        var_covar_matrix = product_matrix / hist_length\n",
        "        return var_covar_matrix\n",
        "    \n",
        "    @staticmethod\n",
        "    def get_stddev_matrix(coins: tp.List[str], history: pd.DataFrame):\n",
        "        coin_history = history.copy()\n",
        "        std_deviations = np.zeros((len(coins), 1))\n",
        "        for idx, coin in enumerate(coins):\n",
        "            std_deviations[idx][0] = np.std(coin_history[coin]['return'])\n",
        "        return std_deviations\n",
        "    \n",
        "    @staticmethod\n",
        "    def get_corr_matrix(std_deviations: np.ndarray, varcovar: np.ndarray):\n",
        "        sdev_product = np.matmul(std_deviations, std_deviations.T)\n",
        "        correlation_matrix = varcovar / sdev_product\n",
        "        return correlation_matrix\n",
        "    \n",
        "    def train_test_split(self):\n",
        "        train, test = {}, {}\n",
        "        for k, v in self._coin_history.items():\n",
        "            train.update({k: v.iloc[:-100, :]})\n",
        "            test.update({k: v.iloc[-100:, :]})\n",
        "        return train, test\n",
        "    \n",
        "    @staticmethod\n",
        "    def get_asset_shares(weights, history):\n",
        "        asset = pd.DataFrame(index=history[list(weights.keys())[0]].index)\n",
        "        asset['close'] = np.sum([(history[k]['Close']*v).values for k,v in weights.items()], axis=0)\n",
        "        return asset\n",
        "    \n",
        "    def optimize(self, desired_annualy_rate: float, objective: str = 'volatility'):\n",
        "        mu = desired_annualy_rate\n",
        "        train = self._coin_history\n",
        "        hist_len = len(train[self._coins[0]])\n",
        "        history, average_returns, cumulative_returns = self.get_all_returns(self._coins, train)\n",
        "        std_deviations = self.get_stddev_matrix(self._coins, history)\n",
        "        excess_matrix = self.get_excess_matrix(hist_len, history, self._coins)\n",
        "        var_covar_matrix = self.get_varcovar_matrix(excess_matrix, hist_len)\n",
        "        correlation_matrix = self.get_corr_matrix(std_deviations, var_covar_matrix)\n",
        "        coins = self._coins\n",
        "        run = True\n",
        "\n",
        "        def volatility(coin_weights: np.ndarray,\n",
        "                       std_deviations: np.ndarray, \n",
        "                       correlation_matrix: np.ndarray):\n",
        "            weighted_std_devs = coin_weights.reshape(-1,1) * std_deviations\n",
        "            product_1 = weighted_std_devs\n",
        "            product_2 = np.matmul(correlation_matrix, product_1)\n",
        "            portfolio_variance = product_2 * weighted_std_devs\n",
        "            portfolio_volatility = np.sqrt(np.sum(portfolio_variance))\n",
        "            return portfolio_volatility\n",
        "\n",
        "        def neg_sharpe(coin_weights: np.ndarray,\n",
        "                       std_deviations: np.ndarray, \n",
        "                       correlation_matrix: np.ndarray):\n",
        "            portfolio_volatility = volatility(coin_weights,\n",
        "                                              std_deviations, \n",
        "                                          correlation_matrix)\n",
        "            portfolio_return = np.dot(coin_weights, returns)   \n",
        "            sharpe_ratio = (portfolio_return - RISK_FREE_RATE)/portfolio_volatility\n",
        "            return -1*sharpe_ratio\n",
        "\n",
        "        returns = np.array(list(average_returns.values()))\n",
        "        x0 = np.array(len(coins)*[1./len(coins)])\n",
        "        \n",
        "        bounds = tuple([(0., 1.) for _ in range(len(coins))])\n",
        "        constraints = ({'type': 'eq',\n",
        "                'fun' : lambda x: np.sum(x) - 1.},\n",
        "                {'type': 'eq',\n",
        "                'fun' : lambda x: np.sum(returns*x) - mu,\n",
        "                'jac' : lambda x: returns}\n",
        "                        )\n",
        "        if objective == 'volatility':\n",
        "            func_to_min = volatility\n",
        "        elif objective == 'sharpe':\n",
        "            func_to_min = neg_sharpe\n",
        "        res = minimize(func_to_min, x0, method='SLSQP', \n",
        "                        constraints=constraints, tol=1e-6, bounds=bounds,\n",
        "                        args=(std_deviations, correlation_matrix)\n",
        "                        )\n",
        "        x = zip(coins, res.x)\n",
        "        x = dict(filter(lambda x: x[-1]>0, x))\n",
        "        coins = list(x.keys())\n",
        "        results_weights = {'asset': list(x.keys()), 'ratio': list(x.values())}\n",
        "        asset = self.get_asset_shares(x, train)\n",
        "        asset_stats = {'return': [asset.close.pct_change().mean()], \n",
        "                       'volatility': [asset.close.pct_change().std()]}\n",
        "        return results_weights, asset_stats"
      ],
      "execution_count": 21,
      "outputs": []
    },
    {
      "cell_type": "markdown",
      "metadata": {
        "id": "tqWxgdfraJhJ"
      },
      "source": [
        "### Minimizing total volatility"
      ]
    },
    {
      "cell_type": "code",
      "metadata": {
        "id": "rmQa8W2mGFLQ",
        "colab": {
          "base_uri": "https://localhost:8080/"
        },
        "outputId": "a746b988-59e0-4cdc-c9d6-3e33c3a7b321"
      },
      "source": [
        "portfolios = defaultdict(str)\r\n",
        "for triple in possible_portfolios:\r\n",
        "  print('='*25)\r\n",
        "  print(f'Calculating stats for portfolio {\", \".join(triple)}')\r\n",
        "  popt = PortfolioOptimizer(triple)\r\n",
        "  weights, stats = popt.optimize(index_mean_return, objective='volatility')\r\n",
        "  print(f'Weights of each asset\\n{pd.DataFrame(weights).set_index(\"asset\")}')\r\n",
        "  print('*'*25)\r\n",
        "  print(f'Stats for portfolio\\n{pd.DataFrame(stats)}')\r\n",
        "  portfolio_name = '+'.join(['*'.join([str(np.round(vi, 3)), ki]) for ki, vi in zip(*weights.values())])\r\n",
        "  portfolios[portfolio_name] = tuple(list(map(sum, stats.values())))"
      ],
      "execution_count": 24,
      "outputs": [
        {
          "output_type": "stream",
          "text": [
            "=========================\n",
            "Calculating stats for portfolio ^GSPC, GOOGL, IBM\n",
            "Weights of each asset\n",
            "          ratio\n",
            "asset          \n",
            "^GSPC  0.990097\n",
            "GOOGL  0.009903\n",
            "*************************\n",
            "Stats for portfolio\n",
            "     return  volatility\n",
            "0  0.001926    0.016081\n",
            "=========================\n",
            "Calculating stats for portfolio ^GSPC, IBM, CSCO\n",
            "Weights of each asset\n",
            "              ratio\n",
            "asset              \n",
            "^GSPC  1.000000e+00\n",
            "IBM    2.275960e-15\n",
            "*************************\n",
            "Stats for portfolio\n",
            "     return  volatility\n",
            "0  0.001923    0.016081\n",
            "=========================\n",
            "Calculating stats for portfolio ^GSPC, AAPL, JPM\n",
            "Weights of each asset\n",
            "              ratio\n",
            "asset              \n",
            "^GSPC  9.929562e-01\n",
            "AAPL   7.043761e-03\n",
            "JPM    1.517883e-18\n",
            "*************************\n",
            "Stats for portfolio\n",
            "     return  volatility\n",
            "0  0.001923    0.016081\n",
            "=========================\n",
            "Calculating stats for portfolio ^GSPC, AAPL, CSCO\n",
            "Weights of each asset\n",
            "          ratio\n",
            "asset          \n",
            "^GSPC  0.926597\n",
            "AAPL   0.024608\n",
            "CSCO   0.048795\n",
            "*************************\n",
            "Stats for portfolio\n",
            "     return  volatility\n",
            "0  0.001923    0.016082\n"
          ],
          "name": "stdout"
        }
      ]
    },
    {
      "cell_type": "code",
      "metadata": {
        "colab": {
          "base_uri": "https://localhost:8080/",
          "height": 431
        },
        "id": "nhy_wD9gxgBB",
        "outputId": "b890fe01-c08f-406a-f298-9119ce76d16f"
      },
      "source": [
        "fig, ax = plt.subplots(figsize=(10, 7))\r\n",
        "visualize_ret_vol(ax, STOCK_DATA)\r\n",
        "visualize_ret_vol_2(ax, portfolios)\r\n",
        "fig.show()"
      ],
      "execution_count": 25,
      "outputs": [
        {
          "output_type": "display_data",
          "data": {
            "image/png": "[encoded data removed]",
            "text/plain": [
              "<Figure size 720x504 with 1 Axes>"
            ]
          },
          "metadata": {
            "tags": []
          }
        }
      ]
    },
    {
      "cell_type": "markdown",
      "metadata": {
        "id": "J7Z9SKAkaRAp"
      },
      "source": [
        "### Maximizing Sharpe ratio"
      ]
    },
    {
      "cell_type": "code",
      "metadata": {
        "colab": {
          "base_uri": "https://localhost:8080/"
        },
        "id": "qkSP-xd6Y2or",
        "outputId": "33b0b351-216d-4134-aeac-2ce005fe9c5a"
      },
      "source": [
        "portfolios = defaultdict(str)\r\n",
        "for triple in possible_portfolios:\r\n",
        "  print('='*25)\r\n",
        "  print(f'Calculating stats for portfolio {\", \".join(triple)}')\r\n",
        "  popt = PortfolioOptimizer(triple)\r\n",
        "  weights, stats = popt.optimize(index_mean_return, objective='sharpe')\r\n",
        "  print(f'Weights of each asset\\n{pd.DataFrame(weights).set_index(\"asset\")}')\r\n",
        "  print('*'*25)\r\n",
        "  print(f'Stats for portfolio\\n{pd.DataFrame(stats)}')\r\n",
        "  portfolio_name = '+'.join(['*'.join([str(np.round(vi, 3)), ki]) for ki, vi in zip(*weights.values())])\r\n",
        "  portfolios[portfolio_name] = tuple(list(map(sum, stats.values())))"
      ],
      "execution_count": 26,
      "outputs": [
        {
          "output_type": "stream",
          "text": [
            "=========================\n",
            "Calculating stats for portfolio ^GSPC, GOOGL, IBM\n",
            "Weights of each asset\n",
            "              ratio\n",
            "asset              \n",
            "^GSPC  9.900968e-01\n",
            "GOOGL  9.903218e-03\n",
            "IBM    2.775558e-17\n",
            "*************************\n",
            "Stats for portfolio\n",
            "     return  volatility\n",
            "0  0.001926    0.016081\n",
            "=========================\n",
            "Calculating stats for portfolio ^GSPC, IBM, CSCO\n",
            "Weights of each asset\n",
            "              ratio\n",
            "asset              \n",
            "^GSPC  1.000000e+00\n",
            "IBM    5.203282e-16\n",
            "CSCO   2.707668e-14\n",
            "*************************\n",
            "Stats for portfolio\n",
            "     return  volatility\n",
            "0  0.001923    0.016081\n",
            "=========================\n",
            "Calculating stats for portfolio ^GSPC, AAPL, JPM\n",
            "Weights of each asset\n",
            "              ratio\n",
            "asset              \n",
            "^GSPC  9.929562e-01\n",
            "AAPL   7.043761e-03\n",
            "JPM    2.602085e-18\n",
            "*************************\n",
            "Stats for portfolio\n",
            "     return  volatility\n",
            "0  0.001923    0.016081\n",
            "=========================\n",
            "Calculating stats for portfolio ^GSPC, AAPL, CSCO\n",
            "Weights of each asset\n",
            "          ratio\n",
            "asset          \n",
            "^GSPC  0.923137\n",
            "AAPL   0.025524\n",
            "CSCO   0.051340\n",
            "*************************\n",
            "Stats for portfolio\n",
            "     return  volatility\n",
            "0  0.001923    0.016082\n"
          ],
          "name": "stdout"
        }
      ]
    },
    {
      "cell_type": "code",
      "metadata": {
        "colab": {
          "base_uri": "https://localhost:8080/",
          "height": 431
        },
        "id": "3kDiyiuiUCdc",
        "outputId": "a3502358-7066-49c1-e327-b47c6e175bbc"
      },
      "source": [
        "fig, ax = plt.subplots(figsize=(10, 7))\r\n",
        "visualize_ret_vol(ax, STOCK_DATA)\r\n",
        "visualize_ret_vol_2(ax, portfolios)\r\n",
        "fig.show()"
      ],
      "execution_count": 27,
      "outputs": [
        {
          "output_type": "display_data",
          "data": {
            "image/png": "[encoded data removed]",
            "text/plain": [
              "<Figure size 720x504 with 1 Axes>"
            ]
          },
          "metadata": {
            "tags": []
          }
        }
      ]
    },
    {
      "cell_type": "markdown",
      "metadata": {
        "id": "s6TuyQdOaaAK"
      },
      "source": [
        "##Conclusions\r\n",
        "### As we can see, the results are pretty much the same and our portfolios tends to have the same volatility and expected return as S&P500 index. That is because we manipulating both index and stocks which are included in that index."
      ]
    }
  ]
}